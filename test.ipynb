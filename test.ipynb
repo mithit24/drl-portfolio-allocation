{
 "cells": [
  {
   "cell_type": "code",
   "execution_count": 7,
   "id": "4af0842c-650f-4a07-aae6-e1a5aa5ed062",
   "metadata": {
    "scrolled": true
   },
   "outputs": [
    {
     "name": "stdout",
     "output_type": "stream",
     "text": [
      "steps 300\n",
      "mean reward -0.0006450901622290265\n",
      "final equity 1103860.4251307829\n"
     ]
    }
   ],
   "source": [
    "%reload_ext autoreload\n",
    "%autoreload 2\n",
    "from src.env.portfolio_env import PortfolioEnv\n",
    "import pandas as pd, numpy as np\n",
    "\n",
    "panel = pd.read_pickle(\"data/processed/etfs_1m_clean.pkl\")\n",
    "env = PortfolioEnv(panel, start_equity=1_000_000)\n",
    "\n",
    "obs = env.reset()\n",
    "rewards = []\n",
    "for _ in range(300):\n",
    "    action = np.random.rand(len(env.tickers))\n",
    "    obs, r, done, info = env.step(action)\n",
    "    rewards.append(r)\n",
    "    if done:\n",
    "        break\n",
    "\n",
    "print(\"steps\", len(rewards))\n",
    "print(\"mean reward\", np.mean(rewards))\n",
    "print(\"final equity\", info.get(\"equity\", \"missing\"))\n"
   ]
  },
  {
   "cell_type": "code",
   "execution_count": 8,
   "id": "ecf15264-f738-40c6-8bd0-773ecef6f2bc",
   "metadata": {},
   "outputs": [
    {
     "name": "stdout",
     "output_type": "stream",
     "text": [
      " Volume in drive C is Acer\n",
      " Volume Serial Number is 3E80-FBD3\n",
      "\n",
      " Directory of C:\\Users\\mithi\\drl-portfolio-allocation\n",
      "\n",
      "11/10/2025  22:56    <DIR>          .\n",
      "11/10/2025  21:37    <DIR>          ..\n",
      "10/10/2025  03:01                83 .gitignore\n",
      "11/10/2025  11:42    <DIR>          .ipynb_checkpoints\n",
      "11/10/2025  11:20    <DIR>          data\n",
      "11/10/2025  22:56            39,161 notebook_1_ data_wrangling_and_feature_engineering.ipynb\n",
      "10/10/2025  02:52                26 README.md\n",
      "11/10/2025  22:56    <DIR>          src\n",
      "11/10/2025  22:56             5,234 test.ipynb\n",
      "               4 File(s)         44,504 bytes\n",
      "               5 Dir(s)  130,703,519,744 bytes free\n"
     ]
    }
   ],
   "source": [
    "!dir\n"
   ]
  },
  {
   "cell_type": "code",
   "execution_count": 9,
   "id": "07769099-0601-4672-b273-2b4acf8428b1",
   "metadata": {},
   "outputs": [
    {
     "name": "stdout",
     "output_type": "stream",
     "text": [
      " Volume in drive C is Acer\n",
      " Volume Serial Number is 3E80-FBD3\n",
      "\n",
      " Directory of C:\\Users\\mithi\\drl-portfolio-allocation\\src\n",
      "\n",
      "11/10/2025  22:56    <DIR>          .\n",
      "11/10/2025  22:58    <DIR>          ..\n",
      "11/10/2025  11:37    <DIR>          .ipynb_checkpoints\n",
      "11/10/2025  11:40    <DIR>          env\n",
      "11/10/2025  22:56    <DIR>          utils\n",
      "               0 File(s)              0 bytes\n",
      "               5 Dir(s)  130,703,126,528 bytes free\n"
     ]
    }
   ],
   "source": [
    "!dir src\n",
    "\n"
   ]
  },
  {
   "cell_type": "code",
   "execution_count": 10,
   "id": "7f88979f-d193-4780-bb0b-ee6b2377f471",
   "metadata": {},
   "outputs": [
    {
     "name": "stderr",
     "output_type": "stream",
     "text": [
      "fatal: pathspec 'notebook_1_' did not match any files\n"
     ]
    },
    {
     "name": "stdout",
     "output_type": "stream",
     "text": [
      "On branch main\n",
      "Your branch is up to date with 'origin/main'.\n",
      "\n",
      "Changes not staged for commit:\n",
      "  (use \"git add/rm <file>...\" to update what will be committed)\n",
      "  (use \"git restore <file>...\" to discard changes in working directory)\n",
      "\tdeleted:    Untitled.ipynb\n",
      "\n",
      "Untracked files:\n",
      "  (use \"git add <file>...\" to include in what will be committed)\n",
      "\tnotebook_1_ data_wrangling_and_feature_engineering.ipynb\n",
      "\tsrc/\n",
      "\ttest.ipynb\n",
      "\n",
      "no changes added to commit (use \"git add\" and/or \"git commit -a\")\n"
     ]
    }
   ],
   "source": [
    "!git add src .gitignore notebook_1_ data_wrangling_and_feature_engineering.ipynb test.ipynb README.md\n",
    "!git commit -m \"Add cost-aware portfolio environment and data preprocessing notebooks\"\n"
   ]
  },
  {
   "cell_type": "code",
   "execution_count": 11,
   "id": "9c37b05a-6833-44c0-96fb-423b702290db",
   "metadata": {},
   "outputs": [
    {
     "name": "stdout",
     "output_type": "stream",
     "text": [
      "rm 'Untitled.ipynb'\n"
     ]
    }
   ],
   "source": [
    "!git rm Untitled.ipynb\n"
   ]
  },
  {
   "cell_type": "code",
   "execution_count": 15,
   "id": "a76cb868-b2e2-4a33-893b-87b8a6b15db9",
   "metadata": {},
   "outputs": [
    {
     "name": "stderr",
     "output_type": "stream",
     "text": [
      "warning: in the working copy of 'notebook_1_ data_wrangling_and_feature_engineering.ipynb', LF will be replaced by CRLF the next time Git touches it\n",
      "warning: in the working copy of 'test.ipynb', LF will be replaced by CRLF the next time Git touches it\n"
     ]
    }
   ],
   "source": [
    "!git add src notebook_1*.ipynb test.ipynb\n"
   ]
  },
  {
   "cell_type": "code",
   "execution_count": null,
   "id": "43536772-31bb-4a1c-9ac4-ac362bbf331c",
   "metadata": {},
   "outputs": [],
   "source": []
  }
 ],
 "metadata": {
  "kernelspec": {
   "display_name": "drl",
   "language": "python",
   "name": "drl"
  },
  "language_info": {
   "codemirror_mode": {
    "name": "ipython",
    "version": 3
   },
   "file_extension": ".py",
   "mimetype": "text/x-python",
   "name": "python",
   "nbconvert_exporter": "python",
   "pygments_lexer": "ipython3",
   "version": "3.11.13"
  }
 },
 "nbformat": 4,
 "nbformat_minor": 5
}
