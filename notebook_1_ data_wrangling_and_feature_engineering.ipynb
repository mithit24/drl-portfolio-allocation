{
 "cells": [
  {
   "cell_type": "code",
   "execution_count": null,
   "id": "d503d359-ef44-4f23-a2b5-e782ce8c446b",
   "metadata": {},
   "outputs": [],
   "source": [
    "\n"
   ]
  },
  {
   "cell_type": "code",
   "execution_count": 1,
   "id": "5133cff9-1579-4516-a3cb-df75154bf5b6",
   "metadata": {},
   "outputs": [],
   "source": [
    "import yfinance as yf\n"
   ]
  },
  {
   "cell_type": "code",
   "execution_count": 2,
   "id": "73fc38b5-bc15-490b-9b06-cdd2c67c5ee0",
   "metadata": {},
   "outputs": [
    {
     "name": "stderr",
     "output_type": "stream",
     "text": [
      "[*********************100%***********************]  10 of 10 completed\n"
     ]
    }
   ],
   "source": [
    "import yfinance as yf\n",
    "import pandas as pd\n",
    "\n",
    "tickers = [\"SPY\", \"QQQ\", \"IWM\", \"TLT\", \"GLD\", \"XLE\", \"XLF\", \"EEM\", \"HYG\", \"DBC\"]\n",
    "\n",
    "raw = yf.download(\n",
    "tickers=tickers,\n",
    "period=\"60d\",\n",
    "interval=\"2m\",\n",
    "group_by=\"ticker\",\n",
    "auto_adjust=True,\n",
    "threads=True)\n",
    "\n",
    "\n"
   ]
  },
  {
   "cell_type": "code",
   "execution_count": 3,
   "id": "43e252cf-84c5-4ef7-ae27-eb03d1acc000",
   "metadata": {},
   "outputs": [],
   "source": [
    "def clean_panel(raw):\n",
    "    fields = [\"Open\", \"High\", \"Low\", \"Close\", \"Volume\"]\n",
    "    df = raw.dropna(how=\"all\")\n",
    "    df = df.loc[:, pd.IndexSlice[:, fields]]\n",
    "    df = df.sort_index()\n",
    "    if df.index.tz is None:\n",
    "        df = df.tz_localize(\"America/New_York\", nonexistent=\"shift_forward\", ambiguous=\"NaT\")\n",
    "    df = df.between_time(\"09:30\", \"16:00\")\n",
    "    df = df.groupby(axis=1, level=0).ffill(limit=2)\n",
    "    df = df.dropna(how=\"all\")\n",
    "    return df\n"
   ]
  },
  {
   "cell_type": "code",
   "execution_count": 4,
   "id": "07b26561-4662-4247-9a66-468cf4ad0f14",
   "metadata": {},
   "outputs": [
    {
     "name": "stderr",
     "output_type": "stream",
     "text": [
      "C:\\Users\\mithi\\AppData\\Local\\Temp\\ipykernel_19428\\79703078.py:9: FutureWarning: DataFrame.groupby with axis=1 is deprecated. Do `frame.T.groupby(...)` without axis instead.\n",
      "  df = df.groupby(axis=1, level=0).ffill(limit=2)\n"
     ]
    }
   ],
   "source": [
    "clean =  clean_panel(raw)"
   ]
  },
  {
   "cell_type": "code",
   "execution_count": 5,
   "id": "337cc710-bd0d-45e3-996e-14236c4c0275",
   "metadata": {},
   "outputs": [
    {
     "data": {
      "text/html": [
       "<div>\n",
       "<style scoped>\n",
       "    .dataframe tbody tr th:only-of-type {\n",
       "        vertical-align: middle;\n",
       "    }\n",
       "\n",
       "    .dataframe tbody tr th {\n",
       "        vertical-align: top;\n",
       "    }\n",
       "\n",
       "    .dataframe thead tr th {\n",
       "        text-align: left;\n",
       "    }\n",
       "\n",
       "    .dataframe thead tr:last-of-type th {\n",
       "        text-align: right;\n",
       "    }\n",
       "</style>\n",
       "<table border=\"1\" class=\"dataframe\">\n",
       "  <thead>\n",
       "    <tr>\n",
       "      <th>Ticker</th>\n",
       "      <th>HYG</th>\n",
       "      <th>DBC</th>\n",
       "      <th>XLF</th>\n",
       "      <th>XLE</th>\n",
       "      <th>GLD</th>\n",
       "      <th>EEM</th>\n",
       "      <th>TLT</th>\n",
       "      <th>IWM</th>\n",
       "      <th>QQQ</th>\n",
       "      <th>SPY</th>\n",
       "      <th>...</th>\n",
       "      <th>HYG</th>\n",
       "      <th>DBC</th>\n",
       "      <th>XLF</th>\n",
       "      <th>XLE</th>\n",
       "      <th>GLD</th>\n",
       "      <th>EEM</th>\n",
       "      <th>TLT</th>\n",
       "      <th>IWM</th>\n",
       "      <th>QQQ</th>\n",
       "      <th>SPY</th>\n",
       "    </tr>\n",
       "    <tr>\n",
       "      <th>Price</th>\n",
       "      <th>Open</th>\n",
       "      <th>Open</th>\n",
       "      <th>Open</th>\n",
       "      <th>Open</th>\n",
       "      <th>Open</th>\n",
       "      <th>Open</th>\n",
       "      <th>Open</th>\n",
       "      <th>Open</th>\n",
       "      <th>Open</th>\n",
       "      <th>Open</th>\n",
       "      <th>...</th>\n",
       "      <th>Volume</th>\n",
       "      <th>Volume</th>\n",
       "      <th>Volume</th>\n",
       "      <th>Volume</th>\n",
       "      <th>Volume</th>\n",
       "      <th>Volume</th>\n",
       "      <th>Volume</th>\n",
       "      <th>Volume</th>\n",
       "      <th>Volume</th>\n",
       "      <th>Volume</th>\n",
       "    </tr>\n",
       "    <tr>\n",
       "      <th>Datetime</th>\n",
       "      <th></th>\n",
       "      <th></th>\n",
       "      <th></th>\n",
       "      <th></th>\n",
       "      <th></th>\n",
       "      <th></th>\n",
       "      <th></th>\n",
       "      <th></th>\n",
       "      <th></th>\n",
       "      <th></th>\n",
       "      <th></th>\n",
       "      <th></th>\n",
       "      <th></th>\n",
       "      <th></th>\n",
       "      <th></th>\n",
       "      <th></th>\n",
       "      <th></th>\n",
       "      <th></th>\n",
       "      <th></th>\n",
       "      <th></th>\n",
       "      <th></th>\n",
       "    </tr>\n",
       "  </thead>\n",
       "  <tbody>\n",
       "    <tr>\n",
       "      <th>2025-08-29 13:30:00+00:00</th>\n",
       "      <td>80.989998</td>\n",
       "      <td>22.230000</td>\n",
       "      <td>53.900002</td>\n",
       "      <td>89.940002</td>\n",
       "      <td>314.720001</td>\n",
       "      <td>49.810001</td>\n",
       "      <td>86.779999</td>\n",
       "      <td>236.740005</td>\n",
       "      <td>574.640015</td>\n",
       "      <td>647.469971</td>\n",
       "      <td>...</td>\n",
       "      <td>101418.0</td>\n",
       "      <td>7354.0</td>\n",
       "      <td>313857.0</td>\n",
       "      <td>233124.0</td>\n",
       "      <td>255010.0</td>\n",
       "      <td>282656.0</td>\n",
       "      <td>2719303.0</td>\n",
       "      <td>1316151.0</td>\n",
       "      <td>2068681.0</td>\n",
       "      <td>2203540.0</td>\n",
       "    </tr>\n",
       "    <tr>\n",
       "      <th>2025-08-29 13:32:00+00:00</th>\n",
       "      <td>80.959999</td>\n",
       "      <td>22.209999</td>\n",
       "      <td>53.965000</td>\n",
       "      <td>90.040001</td>\n",
       "      <td>314.899994</td>\n",
       "      <td>49.794998</td>\n",
       "      <td>86.754997</td>\n",
       "      <td>236.649994</td>\n",
       "      <td>574.710022</td>\n",
       "      <td>647.695007</td>\n",
       "      <td>...</td>\n",
       "      <td>44015.0</td>\n",
       "      <td>1158.0</td>\n",
       "      <td>223081.0</td>\n",
       "      <td>124274.0</td>\n",
       "      <td>48818.0</td>\n",
       "      <td>267428.0</td>\n",
       "      <td>179742.0</td>\n",
       "      <td>240867.0</td>\n",
       "      <td>490322.0</td>\n",
       "      <td>539365.0</td>\n",
       "    </tr>\n",
       "    <tr>\n",
       "      <th>2025-08-29 13:34:00+00:00</th>\n",
       "      <td>80.964996</td>\n",
       "      <td>22.209999</td>\n",
       "      <td>53.980000</td>\n",
       "      <td>90.160004</td>\n",
       "      <td>314.910004</td>\n",
       "      <td>49.814999</td>\n",
       "      <td>86.754997</td>\n",
       "      <td>236.880005</td>\n",
       "      <td>574.294983</td>\n",
       "      <td>647.460022</td>\n",
       "      <td>...</td>\n",
       "      <td>340547.0</td>\n",
       "      <td>1243.0</td>\n",
       "      <td>770072.0</td>\n",
       "      <td>151293.0</td>\n",
       "      <td>56259.0</td>\n",
       "      <td>41051.0</td>\n",
       "      <td>226609.0</td>\n",
       "      <td>232714.0</td>\n",
       "      <td>342037.0</td>\n",
       "      <td>421286.0</td>\n",
       "    </tr>\n",
       "    <tr>\n",
       "      <th>2025-08-29 13:36:00+00:00</th>\n",
       "      <td>80.959999</td>\n",
       "      <td>22.209999</td>\n",
       "      <td>53.950001</td>\n",
       "      <td>90.195000</td>\n",
       "      <td>315.059998</td>\n",
       "      <td>49.799999</td>\n",
       "      <td>86.750000</td>\n",
       "      <td>236.570007</td>\n",
       "      <td>574.280029</td>\n",
       "      <td>647.320007</td>\n",
       "      <td>...</td>\n",
       "      <td>195429.0</td>\n",
       "      <td>829.0</td>\n",
       "      <td>1088469.0</td>\n",
       "      <td>121989.0</td>\n",
       "      <td>62549.0</td>\n",
       "      <td>94264.0</td>\n",
       "      <td>74366.0</td>\n",
       "      <td>158780.0</td>\n",
       "      <td>501444.0</td>\n",
       "      <td>560511.0</td>\n",
       "    </tr>\n",
       "    <tr>\n",
       "      <th>2025-08-29 13:38:00+00:00</th>\n",
       "      <td>80.955002</td>\n",
       "      <td>22.205000</td>\n",
       "      <td>53.950001</td>\n",
       "      <td>90.230003</td>\n",
       "      <td>315.051392</td>\n",
       "      <td>49.759998</td>\n",
       "      <td>86.719002</td>\n",
       "      <td>236.360001</td>\n",
       "      <td>574.049988</td>\n",
       "      <td>647.195007</td>\n",
       "      <td>...</td>\n",
       "      <td>725140.0</td>\n",
       "      <td>3000.0</td>\n",
       "      <td>336547.0</td>\n",
       "      <td>88551.0</td>\n",
       "      <td>270756.0</td>\n",
       "      <td>90746.0</td>\n",
       "      <td>68123.0</td>\n",
       "      <td>112074.0</td>\n",
       "      <td>505266.0</td>\n",
       "      <td>421337.0</td>\n",
       "    </tr>\n",
       "  </tbody>\n",
       "</table>\n",
       "<p>5 rows × 50 columns</p>\n",
       "</div>"
      ],
      "text/plain": [
       "Ticker                           HYG        DBC        XLF        XLE  \\\n",
       "Price                           Open       Open       Open       Open   \n",
       "Datetime                                                                \n",
       "2025-08-29 13:30:00+00:00  80.989998  22.230000  53.900002  89.940002   \n",
       "2025-08-29 13:32:00+00:00  80.959999  22.209999  53.965000  90.040001   \n",
       "2025-08-29 13:34:00+00:00  80.964996  22.209999  53.980000  90.160004   \n",
       "2025-08-29 13:36:00+00:00  80.959999  22.209999  53.950001  90.195000   \n",
       "2025-08-29 13:38:00+00:00  80.955002  22.205000  53.950001  90.230003   \n",
       "\n",
       "Ticker                            GLD        EEM        TLT         IWM  \\\n",
       "Price                            Open       Open       Open        Open   \n",
       "Datetime                                                                  \n",
       "2025-08-29 13:30:00+00:00  314.720001  49.810001  86.779999  236.740005   \n",
       "2025-08-29 13:32:00+00:00  314.899994  49.794998  86.754997  236.649994   \n",
       "2025-08-29 13:34:00+00:00  314.910004  49.814999  86.754997  236.880005   \n",
       "2025-08-29 13:36:00+00:00  315.059998  49.799999  86.750000  236.570007   \n",
       "2025-08-29 13:38:00+00:00  315.051392  49.759998  86.719002  236.360001   \n",
       "\n",
       "Ticker                            QQQ         SPY  ...       HYG     DBC  \\\n",
       "Price                            Open        Open  ...    Volume  Volume   \n",
       "Datetime                                           ...                     \n",
       "2025-08-29 13:30:00+00:00  574.640015  647.469971  ...  101418.0  7354.0   \n",
       "2025-08-29 13:32:00+00:00  574.710022  647.695007  ...   44015.0  1158.0   \n",
       "2025-08-29 13:34:00+00:00  574.294983  647.460022  ...  340547.0  1243.0   \n",
       "2025-08-29 13:36:00+00:00  574.280029  647.320007  ...  195429.0   829.0   \n",
       "2025-08-29 13:38:00+00:00  574.049988  647.195007  ...  725140.0  3000.0   \n",
       "\n",
       "Ticker                           XLF       XLE       GLD       EEM        TLT  \\\n",
       "Price                         Volume    Volume    Volume    Volume     Volume   \n",
       "Datetime                                                                        \n",
       "2025-08-29 13:30:00+00:00   313857.0  233124.0  255010.0  282656.0  2719303.0   \n",
       "2025-08-29 13:32:00+00:00   223081.0  124274.0   48818.0  267428.0   179742.0   \n",
       "2025-08-29 13:34:00+00:00   770072.0  151293.0   56259.0   41051.0   226609.0   \n",
       "2025-08-29 13:36:00+00:00  1088469.0  121989.0   62549.0   94264.0    74366.0   \n",
       "2025-08-29 13:38:00+00:00   336547.0   88551.0  270756.0   90746.0    68123.0   \n",
       "\n",
       "Ticker                           IWM        QQQ        SPY  \n",
       "Price                         Volume     Volume     Volume  \n",
       "Datetime                                                    \n",
       "2025-08-29 13:30:00+00:00  1316151.0  2068681.0  2203540.0  \n",
       "2025-08-29 13:32:00+00:00   240867.0   490322.0   539365.0  \n",
       "2025-08-29 13:34:00+00:00   232714.0   342037.0   421286.0  \n",
       "2025-08-29 13:36:00+00:00   158780.0   501444.0   560511.0  \n",
       "2025-08-29 13:38:00+00:00   112074.0   505266.0   421337.0  \n",
       "\n",
       "[5 rows x 50 columns]"
      ]
     },
     "execution_count": 5,
     "metadata": {},
     "output_type": "execute_result"
    }
   ],
   "source": [
    "clean.head()"
   ]
  },
  {
   "cell_type": "code",
   "execution_count": 6,
   "id": "f9017d21-3d28-403d-b595-1dd12da6a188",
   "metadata": {},
   "outputs": [],
   "source": [
    "import os\n",
    "\n",
    "os.makedirs(\"data/raw\", exist_ok=True)\n",
    "os.makedirs(\"data/processed\", exist_ok=True)\n",
    "\n",
    "\n",
    "raw.to_pickle(\"data/raw/etfs_1m_7d_raw.pkl\")\n",
    "clean.to_pickle(\"data/processed/etfs_1m_clean.pkl\")\n"
   ]
  },
  {
   "cell_type": "code",
   "execution_count": 7,
   "id": "35842b4e-2600-4460-942e-2911a4a76487",
   "metadata": {},
   "outputs": [],
   "source": [
    "import pandas as pd\n",
    "import numpy as np\n",
    "import yfinance as yf\n",
    "import os\n",
    "\n",
    "os.makedirs(\"data/processed\", exist_ok=True)\n",
    "\n",
    "panel = pd.read_pickle(\"data/processed/etfs_1m_clean.pkl\")\n"
   ]
  },
  {
   "cell_type": "code",
   "execution_count": 8,
   "id": "92fbb132-4182-411f-bac3-e08b9841e4af",
   "metadata": {},
   "outputs": [],
   "source": [
    "close = panel.loc[:, pd.IndexSlice[:, \"Close\"]]\n",
    "volume = panel.loc[:, pd.IndexSlice[:, \"Volume\"]]\n",
    "tickers = close.columns.get_level_values(0).unique()\n"
   ]
  },
  {
   "cell_type": "code",
   "execution_count": 9,
   "id": "23286731-f2fb-43d0-a045-103992966f45",
   "metadata": {},
   "outputs": [
    {
     "name": "stderr",
     "output_type": "stream",
     "text": [
      "C:\\Users\\mithi\\AppData\\Local\\Temp\\ipykernel_19428\\1257453750.py:2: FutureWarning: DataFrame.groupby with axis=1 is deprecated. Do `frame.T.groupby(...)` without axis instead.\n",
      "  r1 = close.groupby(axis=1, level=0).pct_change(1)\n",
      "C:\\Users\\mithi\\AppData\\Local\\Temp\\ipykernel_19428\\1257453750.py:2: FutureWarning: The default fill_method='ffill' in DataFrameGroupBy.pct_change is deprecated and will be removed in a future version. Either fill in any non-leading NA values prior to calling pct_change or specify 'fill_method=None' to not fill NA values.\n",
      "  r1 = close.groupby(axis=1, level=0).pct_change(1)\n",
      "C:\\Users\\mithi\\AppData\\Local\\Temp\\ipykernel_19428\\1257453750.py:3: FutureWarning: DataFrame.groupby with axis=1 is deprecated. Do `frame.T.groupby(...)` without axis instead.\n",
      "  r5 = close.groupby(axis=1, level=0).pct_change(5)\n",
      "C:\\Users\\mithi\\AppData\\Local\\Temp\\ipykernel_19428\\1257453750.py:3: FutureWarning: The default fill_method='ffill' in DataFrameGroupBy.pct_change is deprecated and will be removed in a future version. Either fill in any non-leading NA values prior to calling pct_change or specify 'fill_method=None' to not fill NA values.\n",
      "  r5 = close.groupby(axis=1, level=0).pct_change(5)\n",
      "C:\\Users\\mithi\\AppData\\Local\\Temp\\ipykernel_19428\\1257453750.py:6: FutureWarning: DataFrame.groupby with axis=1 is deprecated. Do `frame.T.groupby(...)` without axis instead.\n",
      "  vol_s = r1.groupby(axis=1, level=0).rolling(60).std().droplevel(0)\n",
      "C:\\Users\\mithi\\AppData\\Local\\Temp\\ipykernel_19428\\1257453750.py:7: FutureWarning: DataFrame.groupby with axis=1 is deprecated. Do `frame.T.groupby(...)` without axis instead.\n",
      "  vol_l = r1.groupby(axis=1, level=0).rolling(390).std().droplevel(0)\n"
     ]
    }
   ],
   "source": [
    "# Returns\n",
    "r1 = close.groupby(axis=1, level=0).pct_change(1)\n",
    "r5 = close.groupby(axis=1, level=0).pct_change(5)\n",
    "\n",
    "# Volatility\n",
    "vol_s = r1.groupby(axis=1, level=0).rolling(60).std().droplevel(0)\n",
    "vol_l = r1.groupby(axis=1, level=0).rolling(390).std().droplevel(0)\n",
    "\n"
   ]
  },
  {
   "cell_type": "code",
   "execution_count": 10,
   "id": "825f367c-0dfc-43f5-91a4-0a8e911b5044",
   "metadata": {},
   "outputs": [
    {
     "name": "stderr",
     "output_type": "stream",
     "text": [
      "C:\\Users\\mithi\\AppData\\Local\\Temp\\ipykernel_19428\\2867922181.py:1: FutureWarning: DataFrame.groupby with axis=1 is deprecated. Do `frame.T.groupby(...)` without axis instead.\n",
      "  vol_mean = volume.groupby(axis=1, level=0).rolling(390).mean().droplevel(0)\n"
     ]
    }
   ],
   "source": [
    "vol_mean = volume.groupby(axis=1, level=0).rolling(390).mean().droplevel(0)\n",
    "vol_norm = (volume / vol_mean.replace(0, np.nan)).clip(upper=10)\n",
    "\n"
   ]
  },
  {
   "cell_type": "code",
   "execution_count": 11,
   "id": "6da874c9-7be5-4b52-9f7c-96fdf2de9a2f",
   "metadata": {},
   "outputs": [
    {
     "name": "stderr",
     "output_type": "stream",
     "text": [
      "C:\\Users\\mithi\\AppData\\Local\\Temp\\ipykernel_19428\\2341744871.py:4: PerformanceWarning: indexing past lexsort depth may impact performance.\n",
      "  {t: r1[(t,)].squeeze().rolling(390).corr(r1[(proxy,)].squeeze())\n"
     ]
    }
   ],
   "source": [
    "proxy = \"SPY\" if \"SPY\" in tickers else tickers[0]\n",
    "\n",
    "corr = pd.concat(\n",
    "    {t: r1[(t,)].squeeze().rolling(390).corr(r1[(proxy,)].squeeze())\n",
    "     for t in tickers},\n",
    "    axis=1\n",
    ")\n",
    "corr.columns = pd.MultiIndex.from_product([corr.columns, [\"corr_proxy\"]])\n",
    "\n"
   ]
  },
  {
   "cell_type": "code",
   "execution_count": 12,
   "id": "017dd17d-4203-445c-a3d2-a952aac21933",
   "metadata": {},
   "outputs": [
    {
     "name": "stderr",
     "output_type": "stream",
     "text": [
      "[*********************100%***********************]  1 of 1 completed\n"
     ]
    }
   ],
   "source": [
    "vix = yf.download(\"^VIX\", period=\"7d\", interval=\"1m\", auto_adjust=True)[[\"Close\"]]\n",
    "vix.columns = [\"VIX_Close\"]\n",
    "if vix.index.tz is None:\n",
    "    vix.index = vix.index.tz_localize(\"America/New_York\", nonexistent=\"shift_forward\", ambiguous=\"NaT\")\n",
    "else:\n",
    "    vix.index = vix.index.tz_convert(\"America/New_York\")\n",
    "\n",
    "vix = vix.reindex(close.index).ffill()\n",
    "\n",
    "vix_ret = vix[\"VIX_Close\"].pct_change()\n",
    "vix_vol = vix_ret.rolling(60).std()\n",
    "\n",
    "vix_feature = pd.DataFrame({\"vix_ret\": vix_ret, \"vix_vol\": vix_vol})\n"
   ]
  },
  {
   "cell_type": "code",
   "execution_count": 13,
   "id": "0d9971c5-7705-4895-9885-c15c3ad0852c",
   "metadata": {},
   "outputs": [],
   "source": [
    "vix_blocks = []\n",
    "for t in tickers:\n",
    "    block = pd.concat({t: vix_feature}, axis=1)\n",
    "    vix_blocks.append(block)\n",
    "\n",
    "vix_multi = pd.concat(vix_blocks, axis=1)\n",
    "\n"
   ]
  },
  {
   "cell_type": "code",
   "execution_count": 14,
   "id": "f751f16e-7459-46fb-b0b0-b7fca01d1123",
   "metadata": {},
   "outputs": [],
   "source": [
    "def compute_turbulence(r1, window=390):\n",
    "    turb = []\n",
    "    idx = r1.index\n",
    "    for i in range(window, len(r1)):\n",
    "        hist = r1.iloc[i - window:i]\n",
    "        mu = hist.mean().values\n",
    "        cov = hist.cov().values\n",
    "        if np.linalg.det(cov) <= 0:\n",
    "            turb.append(np.nan)\n",
    "            continue\n",
    "        diff = r1.iloc[i].values - mu\n",
    "        m_dist = np.sqrt(diff.T @ np.linalg.inv(cov) @ diff)\n",
    "        turb.append(m_dist)\n",
    "    turb = pd.Series(turb, index=idx[window:])\n",
    "    return turb.reindex(idx)\n"
   ]
  },
  {
   "cell_type": "code",
   "execution_count": 15,
   "id": "fd6b1134-961e-4cdf-8578-31baf4c278ed",
   "metadata": {},
   "outputs": [
    {
     "name": "stderr",
     "output_type": "stream",
     "text": [
      "C:\\Users\\mithi\\AppData\\Local\\Temp\\ipykernel_19428\\688292144.py:1: FutureWarning: The default fill_method='pad' in DataFrame.pct_change is deprecated and will be removed in a future version. Either fill in any non-leading NA values prior to calling pct_change or specify 'fill_method=None' to not fill NA values.\n",
      "  r1_all = close.xs(\"Close\", level=1, axis=1).pct_change()\n"
     ]
    }
   ],
   "source": [
    "r1_all = close.xs(\"Close\", level=1, axis=1).pct_change()\n",
    "turbulence = compute_turbulence(r1_all)\n",
    "\n",
    "turb_blocks = []\n",
    "for t in tickers:\n",
    "    turb_blocks.append(pd.concat({t: pd.DataFrame({\"turbulence\": turbulence})}, axis=1))\n",
    "turb_multi = pd.concat(turb_blocks, axis=1)\n",
    "\n"
   ]
  },
  {
   "cell_type": "code",
   "execution_count": 16,
   "id": "90487511-4c2f-43e9-b1c6-d335d68c1a3c",
   "metadata": {},
   "outputs": [],
   "source": [
    "feat = pd.concat(\n",
    "    {\n",
    "        \"ret_1\": r1,\n",
    "        \"ret_5\": r5,\n",
    "        \"vol_s\": vol_s,\n",
    "        \"vol_l\": vol_l,\n",
    "        \"vol_norm\": vol_norm,\n",
    "        \"corr_proxy\": corr\n",
    "    },\n",
    "    axis=1\n",
    ").swaplevel(0, 1, axis=1).sort_index(axis=1)\n"
   ]
  },
  {
   "cell_type": "code",
   "execution_count": 17,
   "id": "8a008d4d-2012-42dd-87c2-917f79f58b5e",
   "metadata": {},
   "outputs": [],
   "source": [
    "feat = pd.concat([feat, vix_multi, turb_multi], axis=1).sort_index(axis=1)\n"
   ]
  },
  {
   "cell_type": "code",
   "execution_count": 18,
   "id": "d8db0ab2-6463-4485-aca4-e7423da6ca21",
   "metadata": {},
   "outputs": [
    {
     "name": "stdout",
     "output_type": "stream",
     "text": [
      "Saved (1890, 90)\n"
     ]
    }
   ],
   "source": [
    "feat = feat.replace([np.inf, -np.inf], np.nan).dropna(how=\"all\")\n",
    "feat.to_pickle(\"data/processed/etfs_1m_features.pkl\")\n",
    "print(\"Saved\", feat.shape)\n"
   ]
  },
  {
   "cell_type": "code",
   "execution_count": 19,
   "id": "2154b8ac-5324-4045-bb65-6b6f50c3c3dc",
   "metadata": {},
   "outputs": [
    {
     "name": "stdout",
     "output_type": "stream",
     "text": [
      "<class 'pandas.core.indexes.base.Index'>\n",
      "Index([('DBC', 'corr_proxy', 'corr_proxy'),\n",
      "                 ('DBC', 'ret_1', 'Close'),\n",
      "                 ('DBC', 'ret_5', 'Close'),\n",
      "                     ('DBC', 'turbulence'),\n",
      "                        ('DBC', 'vix_ret'),\n",
      "                        ('DBC', 'vix_vol'),\n",
      "                 ('DBC', 'vol_l', 'Close'),\n",
      "             ('DBC', 'vol_norm', 'Volume'),\n",
      "                 ('DBC', 'vol_s', 'Close'),\n",
      "       ('EEM', 'corr_proxy', 'corr_proxy')],\n",
      "      dtype='object')\n"
     ]
    }
   ],
   "source": [
    "print(type(feat.columns))\n",
    "print(feat.columns[:10])\n"
   ]
  },
  {
   "cell_type": "code",
   "execution_count": 20,
   "id": "5c3241d3-1d2b-499f-bbdd-47f9796a99a1",
   "metadata": {},
   "outputs": [
    {
     "name": "stdout",
     "output_type": "stream",
     "text": [
      "Overwriting src/env/portfolio_env.py\n"
     ]
    }
   ],
   "source": [
    "%%writefile src/env/portfolio_env.py\n",
    "import numpy as np\n",
    "import pandas as pd\n",
    "\n",
    "class PortfolioEnv:\n",
    "    def __init__(self, prices, start_equity=1_000_000):\n",
    "        self.prices = prices\n",
    "        self.close = prices.loc[:, pd.IndexSlice[:, \"Close\"]]\n",
    "        self.tickers = self.close.columns.get_level_values(0).unique()\n",
    "        self.start_equity = start_equity\n",
    "        self.reset()\n",
    "\n",
    "    def reset(self):\n",
    "        self.t = 1\n",
    "        self.equity = float(self.start_equity)\n",
    "        self.w = np.zeros(len(self.tickers))\n",
    "        return self._get_obs()\n",
    "\n",
    "    def _get_obs(self):\n",
    "        return {\n",
    "            \"t\": self.t,\n",
    "            \"weights\": self.w.copy(),\n",
    "            \"equity\": self.equity\n",
    "        }\n",
    "\n",
    "    def step(self, w_target):\n",
    "        w_target = np.clip(w_target, 0, 1)\n",
    "        w_target = w_target / w_target.sum() if w_target.sum() > 0 else self.w\n",
    "\n",
    "        r_next = (\n",
    "            self.close.iloc[self.t + 1].values /\n",
    "            self.close.iloc[self.t].values - 1.0\n",
    "        )\n",
    "\n",
    "        portfolio_ret = np.dot(w_target, r_next)\n",
    "        self.equity *= (1 + portfolio_ret)\n",
    "        self.w = w_target\n",
    "        self.t += 1\n",
    "\n",
    "        reward = portfolio_ret\n",
    "        done = self.t >= len(self.close) - 1\n",
    "\n",
    "        return self._get_obs(), reward, done, {\"portfolio_ret\": portfolio_ret}\n"
   ]
  },
  {
   "cell_type": "code",
   "execution_count": 21,
   "id": "eadd6b47-0161-46ae-ae4b-bc4b2ba526ca",
   "metadata": {},
   "outputs": [
    {
     "name": "stdout",
     "output_type": "stream",
     "text": [
      "640\n"
     ]
    }
   ],
   "source": [
    "import pandas as pd\n",
    "\n",
    "panel = pd.read_pickle(\"data/processed/etfs_1m_clean.pkl\")\n",
    "close = panel.loc[:, pd.IndexSlice[:, \"Close\"]]\n",
    "print(close.isna().sum().sum())\n"
   ]
  },
  {
   "cell_type": "code",
   "execution_count": 22,
   "id": "95ccf976-4f32-4174-af4d-2b2039ce4ea0",
   "metadata": {},
   "outputs": [
    {
     "name": "stderr",
     "output_type": "stream",
     "text": [
      "C:\\Users\\mithi\\AppData\\Local\\Temp\\ipykernel_19428\\2944265229.py:1: FutureWarning: DataFrame.groupby with axis=1 is deprecated. Do `frame.T.groupby(...)` without axis instead.\n",
      "  panel = panel.groupby(axis=1, level=0).ffill().bfill()\n"
     ]
    }
   ],
   "source": [
    "panel = panel.groupby(axis=1, level=0).ffill().bfill()\n"
   ]
  },
  {
   "cell_type": "code",
   "execution_count": 23,
   "id": "3d9c83f6-b0fc-40b8-b9c3-202590c6d28f",
   "metadata": {},
   "outputs": [
    {
     "name": "stdout",
     "output_type": "stream",
     "text": [
      "NaNs remaining: 3200\n"
     ]
    },
    {
     "name": "stderr",
     "output_type": "stream",
     "text": [
      "C:\\Users\\mithi\\AppData\\Local\\Temp\\ipykernel_19428\\252775637.py:4: FutureWarning: DataFrame.groupby with axis=1 is deprecated. Do `frame.T.groupby(...)` without axis instead.\n",
      "  panel = panel.groupby(axis=1, level=0).ffill(limit=5)\n",
      "C:\\Users\\mithi\\AppData\\Local\\Temp\\ipykernel_19428\\252775637.py:5: FutureWarning: DataFrame.groupby with axis=1 is deprecated. Do `frame.T.groupby(...)` without axis instead.\n",
      "  panel = panel.groupby(axis=1, level=0).bfill(limit=5)\n"
     ]
    }
   ],
   "source": [
    "panel = pd.read_pickle(\"data/processed/etfs_1m_clean.pkl\")\n",
    "\n",
    "# Forward-fill small gaps per ticker\n",
    "panel = panel.groupby(axis=1, level=0).ffill(limit=5)\n",
    "panel = panel.groupby(axis=1, level=0).bfill(limit=5)\n",
    "\n",
    "# Drop any rows that are still all-NaN\n",
    "panel = panel.dropna(how=\"all\")\n",
    "\n",
    "# Verify\n",
    "print(\"NaNs remaining:\", panel.isna().sum().sum())\n",
    "\n",
    "# Save cleaned version\n",
    "panel.to_pickle(\"data/processed/etfs_1m_clean.pkl\")\n"
   ]
  },
  {
   "cell_type": "code",
   "execution_count": 24,
   "id": "916aa9c3-7496-4efa-bb63-a63323938a45",
   "metadata": {},
   "outputs": [
    {
     "name": "stdout",
     "output_type": "stream",
     "text": [
      "NaNs remaining: 0\n"
     ]
    },
    {
     "name": "stderr",
     "output_type": "stream",
     "text": [
      "C:\\Users\\mithi\\AppData\\Local\\Temp\\ipykernel_19428\\1271599181.py:4: FutureWarning: DataFrame.groupby with axis=1 is deprecated. Do `frame.T.groupby(...)` without axis instead.\n",
      "  panel = panel.groupby(axis=1, level=0).apply(lambda g: g.ffill().bfill())\n"
     ]
    }
   ],
   "source": [
    "panel = pd.read_pickle(\"data/processed/etfs_1m_clean.pkl\")\n",
    "\n",
    "# Fill per ticker forward and backward across entire session\n",
    "panel = panel.groupby(axis=1, level=0).apply(lambda g: g.ffill().bfill())\n",
    "\n",
    "# Drop any all-NaN rows left\n",
    "panel = panel.dropna(how=\"all\")\n",
    "\n",
    "print(\"NaNs remaining:\", panel.isna().sum().sum())\n",
    "\n",
    "panel.to_pickle(\"data/processed/etfs_1m_clean.pkl\")\n"
   ]
  },
  {
   "cell_type": "code",
   "execution_count": 25,
   "id": "347483dc-dbd4-4fa7-8b54-6d70613292d0",
   "metadata": {},
   "outputs": [],
   "source": [
    "if panel.columns.nlevels == 1:\n",
    "    new_cols = []\n",
    "    for c in panel.columns:\n",
    "        parts = str(c).split(\"_\", 1)\n",
    "        if len(parts) == 2:\n",
    "            new_cols.append((parts[0], parts[1]))\n",
    "        else:\n",
    "            new_cols.append((parts[0], \"Close\"))\n",
    "    panel.columns = pd.MultiIndex.from_tuples(new_cols, names=[\"Ticker\", \"Field\"])\n"
   ]
  },
  {
   "cell_type": "code",
   "execution_count": 26,
   "id": "465cf0b2-136a-4b67-be22-5e778972d28b",
   "metadata": {},
   "outputs": [],
   "source": [
    "panel.to_pickle(\"data/processed/etfs_1m_clean.pkl\")\n"
   ]
  },
  {
   "cell_type": "code",
   "execution_count": 27,
   "id": "87f593e2-9ff0-4f45-a07d-c75dc3587f01",
   "metadata": {},
   "outputs": [
    {
     "name": "stdout",
     "output_type": "stream",
     "text": [
      "MultiIndex([('DBC', 'DBC',   'Open'),\n",
      "            ('DBC', 'DBC',   'High'),\n",
      "            ('DBC', 'DBC',    'Low'),\n",
      "            ('DBC', 'DBC',  'Close'),\n",
      "            ('DBC', 'DBC', 'Volume'),\n",
      "            ('EEM', 'EEM',   'Open'),\n",
      "            ('EEM', 'EEM',   'High'),\n",
      "            ('EEM', 'EEM',    'Low'),\n",
      "            ('EEM', 'EEM',  'Close'),\n",
      "            ('EEM', 'EEM', 'Volume')],\n",
      "           names=['Ticker', 'Ticker', 'Price'])\n",
      "3\n"
     ]
    }
   ],
   "source": [
    "panel = pd.read_pickle(\"data/processed/etfs_1m_clean.pkl\")\n",
    "print(panel.columns[:10])\n",
    "print(panel.columns.nlevels)\n"
   ]
  },
  {
   "cell_type": "code",
   "execution_count": 28,
   "id": "4f1de2b2-a742-42f7-8663-8615c6db04ca",
   "metadata": {},
   "outputs": [
    {
     "name": "stdout",
     "output_type": "stream",
     "text": [
      "2\n",
      "[['DBC', 'EEM', 'GLD', 'HYG', 'IWM', 'QQQ', 'SPY', 'TLT', 'XLE', 'XLF'], ['Close', 'High', 'Low', 'Open', 'Volume']]\n"
     ]
    }
   ],
   "source": [
    "panel = pd.read_pickle(\"data/processed/etfs_1m_clean.pkl\")\n",
    "\n",
    "# Drop the duplicate middle level\n",
    "if panel.columns.nlevels == 3:\n",
    "    panel.columns = panel.columns.droplevel(1)\n",
    "\n",
    "# Rename the third level to 'Field'\n",
    "panel.columns.set_names([\"Ticker\", \"Field\"], inplace=True)\n",
    "\n",
    "print(panel.columns.nlevels)\n",
    "print(panel.columns.levels)\n"
   ]
  },
  {
   "cell_type": "code",
   "execution_count": 29,
   "id": "68ec783e-d81d-4faf-be61-327b2bba35d6",
   "metadata": {},
   "outputs": [],
   "source": [
    "panel.to_pickle(\"data/processed/etfs_1m_clean.pkl\")\n"
   ]
  },
  {
   "cell_type": "code",
   "execution_count": 37,
   "id": "67b920dc-3d46-4792-bf07-2cf9ea8b3323",
   "metadata": {},
   "outputs": [
    {
     "name": "stdout",
     "output_type": "stream",
     "text": [
      "Overwriting src/utils/costs.py\n"
     ]
    }
   ],
   "source": [
    "%%writefile src/utils/costs.py\n",
    "import numpy as np\n",
    "import pandas as pd\n",
    "\n",
    "def spread_proxy(high, low):\n",
    "    rng = (high - low).clip(lower=0)\n",
    "    mid = 0.5 * (high + low)\n",
    "    sp = (rng / mid).fillna(0.0)\n",
    "    return 0.25 * sp\n",
    "\n",
    "def realized_vol(close, win=60):\n",
    "    r = close.pct_change()\n",
    "    return r.rolling(win).std().fillna(0.0)\n",
    "\n",
    "def participation(dollar_trade, price, volume):\n",
    "    dollar_bar = (price * volume).replace(0, np.nan)\n",
    "    return (dollar_trade / dollar_bar).fillna(0.0).clip(lower=0.0)\n",
    "\n",
    "def exec_price(side, mid, half_spread, sigma, dt_min, part, k=0.6, lam=2e-4):\n",
    "    drift = k * sigma * np.sqrt(max(dt_min, 1.0))\n",
    "    impact = lam * (part ** 2)\n",
    "    if side > 0:\n",
    "        px = mid * (1.0 + half_spread + drift + impact)\n",
    "    elif side < 0:\n",
    "        px = mid * (1.0 - half_spread - drift - impact)\n",
    "    else:\n",
    "        px = mid\n",
    "    return px\n",
    "\n",
    "def turnover_l1(w_new, w_old):\n",
    "    \"\"\"L1 turnover penalty: sum of absolute changes in portfolio weights.\"\"\"\n",
    "    return np.abs(w_new - w_old).sum()\n"
   ]
  },
  {
   "cell_type": "code",
   "execution_count": 1,
   "id": "65e626d3-7fde-4f6b-906c-e433e601e8db",
   "metadata": {},
   "outputs": [
    {
     "name": "stdout",
     "output_type": "stream",
     "text": [
      "Overwriting src/env/portfolio_env.py\n"
     ]
    }
   ],
   "source": [
    "%%writefile src/env/portfolio_env.py\n",
    "import numpy as np\n",
    "import pandas as pd\n",
    "from src.utils.costs import spread_proxy, realized_vol, participation, exec_price, turnover_l1\n",
    "\n",
    "class PortfolioEnv:\n",
    "    def __init__(self, prices, freq_min=1, start_equity=1_000_000, part_cap=0.05, k=0.6, lam=2e-4, gamma_bar=8.0, eta_turnover=0.001):\n",
    "        self.prices = prices\n",
    "        self.close = prices.loc[:, pd.IndexSlice[:, \"Close\"]]\n",
    "        self.high = prices.loc[:, pd.IndexSlice[:, \"High\"]]\n",
    "        self.low  = prices.loc[:, pd.IndexSlice[:, \"Low\"]]\n",
    "        self.vol  = prices.loc[:, pd.IndexSlice[:, \"Volume\"]]\n",
    "        self.mid  = self.close\n",
    "        self.half_spread = spread_proxy(self.high, self.low)\n",
    "        self.sigma = realized_vol(self.close, win=60)\n",
    "        self.part_cap = part_cap\n",
    "        self.k = k\n",
    "        self.lam = lam\n",
    "        self.freq_min = freq_min\n",
    "        self.gamma = gamma_bar / (252 * 390)   # annualize risk cost\n",
    "        self.eta_turnover = eta_turnover\n",
    "        self.start_equity = start_equity\n",
    "        self.tickers = self.close.columns.get_level_values(0).unique()\n",
    "        self.reset()\n",
    "\n",
    "    def reset(self):\n",
    "        self.t = 1\n",
    "        self.equity = float(self.start_equity)\n",
    "        self.w = np.zeros(len(self.tickers))\n",
    "        return self._obs()\n",
    "\n",
    "    def _obs(self):\n",
    "        return obs, reward, done, {\"equity\": float(self.equity), \"portfolio_ret\": portfolio_ret}\n",
    "\n",
    "\n",
    "    def step(self, w_target):\n",
    "        w_target = np.clip(w_target, 0, 1)\n",
    "        if w_target.sum() > 0:\n",
    "            w_target = w_target / w_target.sum()\n",
    "\n",
    "        delta_w = w_target - self.w\n",
    "        idx = self.close.index[self.t]\n",
    "        mid = self.mid.loc[idx].values\n",
    "        hs  = self.half_spread.loc[idx].values\n",
    "        sg  = self.sigma.loc[idx].values\n",
    "        vol = self.vol.loc[idx].values\n",
    "\n",
    "        dollar_trade = np.abs(delta_w) * self.equity\n",
    "        part = participation(pd.Series(dollar_trade), pd.Series(mid), pd.Series(vol)).values\n",
    "        part = np.clip(part, 0, self.part_cap)\n",
    "        side = np.sign(delta_w)\n",
    "\n",
    "        exec_px = np.array([\n",
    "            exec_price(s, m, h, sgm, self.freq_min, p, self.k, self.lam)\n",
    "            for s, m, h, sgm, p in zip(side, mid, hs, sg, part)\n",
    "        ])\n",
    "\n",
    "        shares = (np.abs(delta_w) * self.equity) / np.maximum(mid, 1e-12)\n",
    "        trade_cash = np.sum(shares * exec_px * side)\n",
    "\n",
    "        dollar_pos = self.w * self.equity\n",
    "        dollar_pos += shares * exec_px * side\n",
    "        self.equity -= np.abs(trade_cash)\n",
    "        self.cash = max(self.start_equity - np.sum(dollar_pos), 0.0)\n",
    "\n",
    "        idx_next = self.close.index[min(self.t + 1, len(self.close) - 1)]\n",
    "        next_px = self.mid.loc[idx_next].values\n",
    "        dollar_pos = dollar_pos * (next_px / np.maximum(mid, 1e-12))\n",
    "        self.equity = np.sum(dollar_pos) + self.cash\n",
    "        self.w = np.clip(dollar_pos / self.equity, 0, 1)\n",
    "\n",
    "        # risk penalty\n",
    "        var_diag = (self.sigma.loc[idx] ** 2).values\n",
    "        risk_pen = 0.5 * self.gamma * float(np.dot(self.w, var_diag * self.w))\n",
    "\n",
    "        # turnover penalty\n",
    "        tvr = turnover_l1(self.w, self.w - delta_w)\n",
    "        tvr_pen = self.eta_turnover * tvr\n",
    "\n",
    "        # reward\n",
    "        prev_idx = self.close.index[self.t - 1]\n",
    "        r_bar = self.mid.loc[idx_next].values / np.maximum(self.mid.loc[prev_idx].values, 1e-12) - 1.0\n",
    "        pnl_ret = float(np.dot(self.w, r_bar))\n",
    "        reward = pnl_ret - risk_pen - tvr_pen\n",
    "\n",
    "        reward = pnl_ret - risk_pen - tvr_pen\n",
    "\n",
    "        info = {\n",
    "        \"pnl_ret\": pnl_ret,\n",
    "        \"risk_pen\": risk_pen,\n",
    "        \"tvr_pen\": tvr_pen,\n",
    "        \"equity\": float(self.equity)\n",
    "        }\n",
    "        self.t += 1\n",
    "        done = self.t >= len(self.close) - 1\n",
    "        return self._obs(), reward, done, info\n",
    "\n",
    "\n"
   ]
  },
  {
   "cell_type": "code",
   "execution_count": 38,
   "id": "a62230a7-2f1e-4947-b1c1-0c3f6456a55c",
   "metadata": {},
   "outputs": [
    {
     "name": "stdout",
     "output_type": "stream",
     "text": [
      "Writing src/env/portfolio_gym.py\n"
     ]
    }
   ],
   "source": [
    "%%writefile src/env/portfolio_gym.py\n",
    "import numpy as np\n",
    "import pandas as pd\n",
    "import gymnasium as gym\n",
    "from gymnasium import spaces\n",
    "from src.env.portfolio_env import PortfolioEnv\n",
    "\n",
    "class PortfolioGym(gym.Env):\n",
    "    metadata = {\"render.modes\": [\"human\"]}\n",
    "\n",
    "    def __init__(self, prices, feature_df=None, start_equity=1_000_000):\n",
    "        super().__init__()\n",
    "        self.core = PortfolioEnv(prices, start_equity=start_equity)\n",
    "        self.feature_df = feature_df\n",
    "        self.tickers = self.core.tickers\n",
    "        self.n_assets = len(self.tickers)\n",
    "\n",
    "        # Observation: weights + features (can be expanded later)\n",
    "        obs_dim = self.n_assets * 2\n",
    "        self.observation_space = spaces.Box(low=-np.inf, high=np.inf, shape=(obs_dim,), dtype=np.float32)\n",
    "\n",
    "        # Action: target weights (0 to 1)\n",
    "        self.action_space = spaces.Box(low=0.0, high=1.0, shape=(self.n_assets,), dtype=np.float32)\n",
    "\n",
    "    def reset(self, *, seed=None, options=None):\n",
    "        super().reset(seed=seed)\n",
    "        obs_core = self.core.reset()\n",
    "        obs = self._build_obs(obs_core)\n",
    "        return obs, {}\n",
    "\n",
    "    def _build_obs(self, core_obs):\n",
    "        w = core_obs[\"weights\"]\n",
    "        if self.feature_df is not None:\n",
    "            f = self.feature_df.iloc[self.core.t].xs(level=0, axis=1, drop_level=False).values.flatten()\n",
    "            return np.concatenate([w, f])\n",
    "        else:\n",
    "            return np.concatenate([w, w])  # placeholder if no features\n",
    "\n",
    "    def step(self, action):\n",
    "        obs_core, reward, done, info = self.core.step(action)\n",
    "        obs = self._build_obs(obs_core)\n",
    "        truncated = False\n",
    "        return obs, reward, done, truncated, info\n",
    "\n",
    "    def render(self):\n",
    "        print(f\"Step {self.core.t}, Equity {self.core.equity:.2f}\")\n"
   ]
  },
  {
   "cell_type": "code",
   "execution_count": 4,
   "id": "897ba57e-3d1b-45e0-9c9f-9627aa6b4d69",
   "metadata": {},
   "outputs": [
    {
     "name": "stderr",
     "output_type": "stream",
     "text": [
      "warning: in the working copy of 'notebook_1_ data_wrangling_and_feature_engineering.ipynb', LF will be replaced by CRLF the next time Git touches it\n",
      "warning: in the working copy of 'test.ipynb', LF will be replaced by CRLF the next time Git touches it\n"
     ]
    }
   ],
   "source": [
    "!git add notebook_1_*.ipynb test.ipynb\n",
    "\n"
   ]
  },
  {
   "cell_type": "code",
   "execution_count": null,
   "id": "7b085231-5617-4a4e-85d6-e13dd17ee551",
   "metadata": {},
   "outputs": [],
   "source": []
  }
 ],
 "metadata": {
  "kernelspec": {
   "display_name": "drl",
   "language": "python",
   "name": "drl"
  },
  "language_info": {
   "codemirror_mode": {
    "name": "ipython",
    "version": 3
   },
   "file_extension": ".py",
   "mimetype": "text/x-python",
   "name": "python",
   "nbconvert_exporter": "python",
   "pygments_lexer": "ipython3",
   "version": "3.11.13"
  }
 },
 "nbformat": 4,
 "nbformat_minor": 5
}
